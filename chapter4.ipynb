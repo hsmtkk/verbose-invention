{
 "cells": [
  {
   "cell_type": "code",
   "execution_count": 1,
   "id": "c86b9bc8-5532-4096-a8df-a7714da17813",
   "metadata": {},
   "outputs": [],
   "source": [
    "import pandas as pd"
   ]
  },
  {
   "cell_type": "code",
   "execution_count": 2,
   "id": "c7799512-7162-4b6c-9d7f-6221bf55e8e1",
   "metadata": {},
   "outputs": [],
   "source": [
    "df = pd.read_csv('code-sml_5/datafile/KvsT.csv')"
   ]
  },
  {
   "cell_type": "code",
   "execution_count": 3,
   "id": "f8aa516b-636f-4faa-9c1f-97195bcb52e8",
   "metadata": {},
   "outputs": [
    {
     "data": {
      "text/html": [
       "<div>\n",
       "<style scoped>\n",
       "    .dataframe tbody tr th:only-of-type {\n",
       "        vertical-align: middle;\n",
       "    }\n",
       "\n",
       "    .dataframe tbody tr th {\n",
       "        vertical-align: top;\n",
       "    }\n",
       "\n",
       "    .dataframe thead th {\n",
       "        text-align: right;\n",
       "    }\n",
       "</style>\n",
       "<table border=\"1\" class=\"dataframe\">\n",
       "  <thead>\n",
       "    <tr style=\"text-align: right;\">\n",
       "      <th></th>\n",
       "      <th>身長</th>\n",
       "      <th>体重</th>\n",
       "      <th>年代</th>\n",
       "      <th>派閥</th>\n",
       "    </tr>\n",
       "  </thead>\n",
       "  <tbody>\n",
       "    <tr>\n",
       "      <th>0</th>\n",
       "      <td>170</td>\n",
       "      <td>60</td>\n",
       "      <td>10</td>\n",
       "      <td>きのこ</td>\n",
       "    </tr>\n",
       "    <tr>\n",
       "      <th>1</th>\n",
       "      <td>172</td>\n",
       "      <td>65</td>\n",
       "      <td>20</td>\n",
       "      <td>きのこ</td>\n",
       "    </tr>\n",
       "    <tr>\n",
       "      <th>2</th>\n",
       "      <td>170</td>\n",
       "      <td>60</td>\n",
       "      <td>30</td>\n",
       "      <td>たけのこ</td>\n",
       "    </tr>\n",
       "    <tr>\n",
       "      <th>3</th>\n",
       "      <td>170</td>\n",
       "      <td>65</td>\n",
       "      <td>40</td>\n",
       "      <td>きのこ</td>\n",
       "    </tr>\n",
       "    <tr>\n",
       "      <th>4</th>\n",
       "      <td>177</td>\n",
       "      <td>65</td>\n",
       "      <td>10</td>\n",
       "      <td>たけのこ</td>\n",
       "    </tr>\n",
       "  </tbody>\n",
       "</table>\n",
       "</div>"
      ],
      "text/plain": [
       "    身長  体重  年代    派閥\n",
       "0  170  60  10   きのこ\n",
       "1  172  65  20   きのこ\n",
       "2  170  60  30  たけのこ\n",
       "3  170  65  40   きのこ\n",
       "4  177  65  10  たけのこ"
      ]
     },
     "execution_count": 3,
     "metadata": {},
     "output_type": "execute_result"
    }
   ],
   "source": [
    "df.head()"
   ]
  },
  {
   "cell_type": "code",
   "execution_count": 4,
   "id": "a41a8fbe-63ad-4732-b140-6aee45a7509a",
   "metadata": {},
   "outputs": [
    {
     "data": {
      "text/plain": [
       "0     170\n",
       "1     172\n",
       "2     170\n",
       "3     170\n",
       "4     177\n",
       "5     168\n",
       "6     169\n",
       "7     170\n",
       "8     180\n",
       "9     170\n",
       "10    165\n",
       "11    170\n",
       "12    175\n",
       "13    170\n",
       "14    170\n",
       "15    155\n",
       "16    160\n",
       "17    170\n",
       "18    175\n",
       "Name: 身長, dtype: int64"
      ]
     },
     "execution_count": 4,
     "metadata": {},
     "output_type": "execute_result"
    }
   ],
   "source": [
    "# 特定の列を参照する\n",
    "df['身長']"
   ]
  },
  {
   "cell_type": "code",
   "execution_count": 5,
   "id": "b7b8cbce-3f2c-426e-a8d1-2f042ae6bf58",
   "metadata": {},
   "outputs": [
    {
     "data": {
      "text/html": [
       "<div>\n",
       "<style scoped>\n",
       "    .dataframe tbody tr th:only-of-type {\n",
       "        vertical-align: middle;\n",
       "    }\n",
       "\n",
       "    .dataframe tbody tr th {\n",
       "        vertical-align: top;\n",
       "    }\n",
       "\n",
       "    .dataframe thead th {\n",
       "        text-align: right;\n",
       "    }\n",
       "</style>\n",
       "<table border=\"1\" class=\"dataframe\">\n",
       "  <thead>\n",
       "    <tr style=\"text-align: right;\">\n",
       "      <th></th>\n",
       "      <th>身長</th>\n",
       "      <th>体重</th>\n",
       "    </tr>\n",
       "  </thead>\n",
       "  <tbody>\n",
       "    <tr>\n",
       "      <th>0</th>\n",
       "      <td>170</td>\n",
       "      <td>60</td>\n",
       "    </tr>\n",
       "    <tr>\n",
       "      <th>1</th>\n",
       "      <td>172</td>\n",
       "      <td>65</td>\n",
       "    </tr>\n",
       "    <tr>\n",
       "      <th>2</th>\n",
       "      <td>170</td>\n",
       "      <td>60</td>\n",
       "    </tr>\n",
       "    <tr>\n",
       "      <th>3</th>\n",
       "      <td>170</td>\n",
       "      <td>65</td>\n",
       "    </tr>\n",
       "    <tr>\n",
       "      <th>4</th>\n",
       "      <td>177</td>\n",
       "      <td>65</td>\n",
       "    </tr>\n",
       "    <tr>\n",
       "      <th>5</th>\n",
       "      <td>168</td>\n",
       "      <td>55</td>\n",
       "    </tr>\n",
       "    <tr>\n",
       "      <th>6</th>\n",
       "      <td>169</td>\n",
       "      <td>65</td>\n",
       "    </tr>\n",
       "    <tr>\n",
       "      <th>7</th>\n",
       "      <td>170</td>\n",
       "      <td>62</td>\n",
       "    </tr>\n",
       "    <tr>\n",
       "      <th>8</th>\n",
       "      <td>180</td>\n",
       "      <td>70</td>\n",
       "    </tr>\n",
       "    <tr>\n",
       "      <th>9</th>\n",
       "      <td>170</td>\n",
       "      <td>68</td>\n",
       "    </tr>\n",
       "    <tr>\n",
       "      <th>10</th>\n",
       "      <td>165</td>\n",
       "      <td>65</td>\n",
       "    </tr>\n",
       "    <tr>\n",
       "      <th>11</th>\n",
       "      <td>170</td>\n",
       "      <td>72</td>\n",
       "    </tr>\n",
       "    <tr>\n",
       "      <th>12</th>\n",
       "      <td>175</td>\n",
       "      <td>77</td>\n",
       "    </tr>\n",
       "    <tr>\n",
       "      <th>13</th>\n",
       "      <td>170</td>\n",
       "      <td>65</td>\n",
       "    </tr>\n",
       "    <tr>\n",
       "      <th>14</th>\n",
       "      <td>170</td>\n",
       "      <td>65</td>\n",
       "    </tr>\n",
       "    <tr>\n",
       "      <th>15</th>\n",
       "      <td>155</td>\n",
       "      <td>56</td>\n",
       "    </tr>\n",
       "    <tr>\n",
       "      <th>16</th>\n",
       "      <td>160</td>\n",
       "      <td>56</td>\n",
       "    </tr>\n",
       "    <tr>\n",
       "      <th>17</th>\n",
       "      <td>170</td>\n",
       "      <td>65</td>\n",
       "    </tr>\n",
       "    <tr>\n",
       "      <th>18</th>\n",
       "      <td>175</td>\n",
       "      <td>60</td>\n",
       "    </tr>\n",
       "  </tbody>\n",
       "</table>\n",
       "</div>"
      ],
      "text/plain": [
       "     身長  体重\n",
       "0   170  60\n",
       "1   172  65\n",
       "2   170  60\n",
       "3   170  65\n",
       "4   177  65\n",
       "5   168  55\n",
       "6   169  65\n",
       "7   170  62\n",
       "8   180  70\n",
       "9   170  68\n",
       "10  165  65\n",
       "11  170  72\n",
       "12  175  77\n",
       "13  170  65\n",
       "14  170  65\n",
       "15  155  56\n",
       "16  160  56\n",
       "17  170  65\n",
       "18  175  60"
      ]
     },
     "execution_count": 5,
     "metadata": {},
     "output_type": "execute_result"
    }
   ],
   "source": [
    "# 複数の列を参照する\n",
    "cols = ['身長', '体重']\n",
    "df[cols]"
   ]
  },
  {
   "cell_type": "code",
   "execution_count": 6,
   "id": "8b999555-f59a-4bf7-a528-b10278036c2d",
   "metadata": {},
   "outputs": [
    {
     "name": "stdout",
     "output_type": "stream",
     "text": [
      "<class 'pandas.core.series.Series'>\n",
      "<class 'pandas.core.frame.DataFrame'>\n"
     ]
    }
   ],
   "source": [
    "print(type(df['身長'])) # 1列のみ参照する場合はSeries\n",
    "print(type(df[cols])) # 複数列参照する場合はDataFrame"
   ]
  },
  {
   "cell_type": "code",
   "execution_count": 7,
   "id": "4b5eb4fd-3cdd-40c1-85ea-f44f11cecc49",
   "metadata": {},
   "outputs": [],
   "source": [
    "# 身長、体重、年代にもとづき、派閥を予想する\n",
    "# 特徴量: 身長、体重、年代\n",
    "# 正解データ: 派閥"
   ]
  },
  {
   "cell_type": "code",
   "execution_count": 8,
   "id": "62088ee1-944f-4f18-ae70-7cc5ab2f8566",
   "metadata": {},
   "outputs": [
    {
     "data": {
      "text/html": [
       "<div>\n",
       "<style scoped>\n",
       "    .dataframe tbody tr th:only-of-type {\n",
       "        vertical-align: middle;\n",
       "    }\n",
       "\n",
       "    .dataframe tbody tr th {\n",
       "        vertical-align: top;\n",
       "    }\n",
       "\n",
       "    .dataframe thead th {\n",
       "        text-align: right;\n",
       "    }\n",
       "</style>\n",
       "<table border=\"1\" class=\"dataframe\">\n",
       "  <thead>\n",
       "    <tr style=\"text-align: right;\">\n",
       "      <th></th>\n",
       "      <th>身長</th>\n",
       "      <th>体重</th>\n",
       "      <th>年代</th>\n",
       "    </tr>\n",
       "  </thead>\n",
       "  <tbody>\n",
       "    <tr>\n",
       "      <th>0</th>\n",
       "      <td>170</td>\n",
       "      <td>60</td>\n",
       "      <td>10</td>\n",
       "    </tr>\n",
       "    <tr>\n",
       "      <th>1</th>\n",
       "      <td>172</td>\n",
       "      <td>65</td>\n",
       "      <td>20</td>\n",
       "    </tr>\n",
       "    <tr>\n",
       "      <th>2</th>\n",
       "      <td>170</td>\n",
       "      <td>60</td>\n",
       "      <td>30</td>\n",
       "    </tr>\n",
       "    <tr>\n",
       "      <th>3</th>\n",
       "      <td>170</td>\n",
       "      <td>65</td>\n",
       "      <td>40</td>\n",
       "    </tr>\n",
       "    <tr>\n",
       "      <th>4</th>\n",
       "      <td>177</td>\n",
       "      <td>65</td>\n",
       "      <td>10</td>\n",
       "    </tr>\n",
       "    <tr>\n",
       "      <th>5</th>\n",
       "      <td>168</td>\n",
       "      <td>55</td>\n",
       "      <td>20</td>\n",
       "    </tr>\n",
       "    <tr>\n",
       "      <th>6</th>\n",
       "      <td>169</td>\n",
       "      <td>65</td>\n",
       "      <td>30</td>\n",
       "    </tr>\n",
       "    <tr>\n",
       "      <th>7</th>\n",
       "      <td>170</td>\n",
       "      <td>62</td>\n",
       "      <td>40</td>\n",
       "    </tr>\n",
       "    <tr>\n",
       "      <th>8</th>\n",
       "      <td>180</td>\n",
       "      <td>70</td>\n",
       "      <td>10</td>\n",
       "    </tr>\n",
       "    <tr>\n",
       "      <th>9</th>\n",
       "      <td>170</td>\n",
       "      <td>68</td>\n",
       "      <td>20</td>\n",
       "    </tr>\n",
       "    <tr>\n",
       "      <th>10</th>\n",
       "      <td>165</td>\n",
       "      <td>65</td>\n",
       "      <td>40</td>\n",
       "    </tr>\n",
       "    <tr>\n",
       "      <th>11</th>\n",
       "      <td>170</td>\n",
       "      <td>72</td>\n",
       "      <td>20</td>\n",
       "    </tr>\n",
       "    <tr>\n",
       "      <th>12</th>\n",
       "      <td>175</td>\n",
       "      <td>77</td>\n",
       "      <td>40</td>\n",
       "    </tr>\n",
       "    <tr>\n",
       "      <th>13</th>\n",
       "      <td>170</td>\n",
       "      <td>65</td>\n",
       "      <td>30</td>\n",
       "    </tr>\n",
       "    <tr>\n",
       "      <th>14</th>\n",
       "      <td>170</td>\n",
       "      <td>65</td>\n",
       "      <td>30</td>\n",
       "    </tr>\n",
       "    <tr>\n",
       "      <th>15</th>\n",
       "      <td>155</td>\n",
       "      <td>56</td>\n",
       "      <td>20</td>\n",
       "    </tr>\n",
       "    <tr>\n",
       "      <th>16</th>\n",
       "      <td>160</td>\n",
       "      <td>56</td>\n",
       "      <td>20</td>\n",
       "    </tr>\n",
       "    <tr>\n",
       "      <th>17</th>\n",
       "      <td>170</td>\n",
       "      <td>65</td>\n",
       "      <td>40</td>\n",
       "    </tr>\n",
       "    <tr>\n",
       "      <th>18</th>\n",
       "      <td>175</td>\n",
       "      <td>60</td>\n",
       "      <td>20</td>\n",
       "    </tr>\n",
       "  </tbody>\n",
       "</table>\n",
       "</div>"
      ],
      "text/plain": [
       "     身長  体重  年代\n",
       "0   170  60  10\n",
       "1   172  65  20\n",
       "2   170  60  30\n",
       "3   170  65  40\n",
       "4   177  65  10\n",
       "5   168  55  20\n",
       "6   169  65  30\n",
       "7   170  62  40\n",
       "8   180  70  10\n",
       "9   170  68  20\n",
       "10  165  65  40\n",
       "11  170  72  20\n",
       "12  175  77  40\n",
       "13  170  65  30\n",
       "14  170  65  30\n",
       "15  155  56  20\n",
       "16  160  56  20\n",
       "17  170  65  40\n",
       "18  175  60  20"
      ]
     },
     "execution_count": 8,
     "metadata": {},
     "output_type": "execute_result"
    }
   ],
   "source": [
    "# 特徴量\n",
    "x = df[['身長', '体重', '年代']]\n",
    "x"
   ]
  },
  {
   "cell_type": "code",
   "execution_count": 9,
   "id": "843e9be2-0e4f-4dc4-8db5-6249ac565dca",
   "metadata": {},
   "outputs": [
    {
     "data": {
      "text/plain": [
       "0      きのこ\n",
       "1      きのこ\n",
       "2     たけのこ\n",
       "3      きのこ\n",
       "4     たけのこ\n",
       "5      きのこ\n",
       "6     たけのこ\n",
       "7     たけのこ\n",
       "8     たけのこ\n",
       "9      きのこ\n",
       "10    たけのこ\n",
       "11     きのこ\n",
       "12    たけのこ\n",
       "13    たけのこ\n",
       "14    たけのこ\n",
       "15     きのこ\n",
       "16    たけのこ\n",
       "17     きのこ\n",
       "18    たけのこ\n",
       "Name: 派閥, dtype: object"
      ]
     },
     "execution_count": 9,
     "metadata": {},
     "output_type": "execute_result"
    }
   ],
   "source": [
    "# 正解データ\n",
    "t = df['派閥']\n",
    "t"
   ]
  },
  {
   "cell_type": "code",
   "execution_count": 10,
   "id": "f365cad1-1c91-4da8-8cc8-e6c7bef43126",
   "metadata": {},
   "outputs": [],
   "source": [
    "from sklearn import tree"
   ]
  },
  {
   "cell_type": "code",
   "execution_count": 11,
   "id": "4d9eaf10-a195-4618-af31-b111d06680d0",
   "metadata": {},
   "outputs": [],
   "source": [
    "model = tree.DecisionTreeClassifier(random_state=0)"
   ]
  },
  {
   "cell_type": "code",
   "execution_count": 12,
   "id": "4f06df57-8262-4c04-95f3-e0889af15d0d",
   "metadata": {},
   "outputs": [
    {
     "data": {
      "text/plain": [
       "DecisionTreeClassifier(random_state=0)"
      ]
     },
     "execution_count": 12,
     "metadata": {},
     "output_type": "execute_result"
    }
   ],
   "source": [
    "# 学習\n",
    "model.fit(x, t)"
   ]
  },
  {
   "cell_type": "code",
   "execution_count": 13,
   "id": "f730930f-2a26-45c0-8c8e-f920ce1f0346",
   "metadata": {},
   "outputs": [
    {
     "data": {
      "text/plain": [
       "array(['きのこ'], dtype=object)"
      ]
     },
     "execution_count": 13,
     "metadata": {},
     "output_type": "execute_result"
    }
   ],
   "source": [
    "# 予想\n",
    "taro = [[170, 70, 20]]\n",
    "model.predict(taro)"
   ]
  },
  {
   "cell_type": "code",
   "execution_count": 14,
   "id": "f7a75d9d-1ec5-4d0d-ad0b-e631c3d473f5",
   "metadata": {},
   "outputs": [
    {
     "data": {
      "text/plain": [
       "array(['きのこ', 'たけのこ'], dtype=object)"
      ]
     },
     "execution_count": 14,
     "metadata": {},
     "output_type": "execute_result"
    }
   ],
   "source": [
    "# 複数データでの予想\n",
    "matsuda = [172, 65, 20]\n",
    "asagi = [158, 48, 20]\n",
    "new_data = [matsuda, asagi]\n",
    "model.predict(new_data)"
   ]
  },
  {
   "cell_type": "code",
   "execution_count": 15,
   "id": "765e5a7e-6894-4c6b-8265-e04719c8c179",
   "metadata": {},
   "outputs": [
    {
     "data": {
      "text/plain": [
       "1.0"
      ]
     },
     "execution_count": 15,
     "metadata": {},
     "output_type": "execute_result"
    }
   ],
   "source": [
    "model.score(x, t)"
   ]
  },
  {
   "cell_type": "code",
   "execution_count": 16,
   "id": "245e222f-aa0f-4217-b26d-1e35831f2044",
   "metadata": {},
   "outputs": [],
   "source": [
    "# モデルの保存"
   ]
  },
  {
   "cell_type": "code",
   "execution_count": 17,
   "id": "650d07a4-a925-43a5-80b2-637d98b8da21",
   "metadata": {},
   "outputs": [],
   "source": [
    "import pickle"
   ]
  },
  {
   "cell_type": "code",
   "execution_count": 20,
   "id": "1030dbb5-8989-4579-824b-ceb48f727b0a",
   "metadata": {},
   "outputs": [],
   "source": [
    "with open('KinokoTakenoko.pkl', 'wb') as f:\n",
    "    pickle.dump(model, f)"
   ]
  },
  {
   "cell_type": "code",
   "execution_count": 22,
   "id": "4f691eee-1986-490c-9240-b3b315b9ba99",
   "metadata": {},
   "outputs": [],
   "source": [
    "# モデルのロード\n",
    "with open('KinokoTakenoko.pkl', 'rb') as f:\n",
    "    model2 = pickle.load(f)"
   ]
  },
  {
   "cell_type": "code",
   "execution_count": null,
   "id": "bd2ea8fa-00c5-40cd-a392-800d71bf2a08",
   "metadata": {},
   "outputs": [],
   "source": []
  }
 ],
 "metadata": {
  "kernelspec": {
   "display_name": "Python 3",
   "language": "python",
   "name": "python3"
  },
  "language_info": {
   "codemirror_mode": {
    "name": "ipython",
    "version": 3
   },
   "file_extension": ".py",
   "mimetype": "text/x-python",
   "name": "python",
   "nbconvert_exporter": "python",
   "pygments_lexer": "ipython3",
   "version": "3.9.1"
  }
 },
 "nbformat": 4,
 "nbformat_minor": 5
}
